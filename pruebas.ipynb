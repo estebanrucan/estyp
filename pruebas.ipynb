{
 "cells": [
  {
   "cell_type": "code",
   "execution_count": 1,
   "metadata": {},
   "outputs": [],
   "source": [
    "%load_ext autoreload\n",
    "%autoreload 2"
   ]
  },
  {
   "cell_type": "code",
   "execution_count": 1,
   "metadata": {},
   "outputs": [],
   "source": [
    "from sklearn.datasets import load_iris\n",
    "import pandas as pd\n",
    "\n",
    "content = load_iris()\n",
    "\n",
    "data = pd.DataFrame(content.data, columns=[f\"x{i+1}\" for i in range(content.data.shape[1])])\n",
    "data[\"y\"] = (content.target == 1).astype(int)"
   ]
  },
  {
   "cell_type": "code",
   "execution_count": 2,
   "metadata": {},
   "outputs": [
    {
     "data": {
      "text/plain": [
       "array(['setosa', 'versicolor', 'virginica'], dtype='<U10')"
      ]
     },
     "execution_count": 2,
     "metadata": {},
     "output_type": "execute_result"
    }
   ],
   "source": [
    "content.target_names"
   ]
  },
  {
   "cell_type": "code",
   "execution_count": 58,
   "metadata": {},
   "outputs": [
    {
     "name": "stdout",
     "output_type": "stream",
     "text": [
      "- Forward result: y ~ x2\n",
      "- Both result   : y ~ x1 + x2 + x3 + x4\n"
     ]
    }
   ],
   "source": [
    "from estyp.linear_model.stepwise import forward_selection, both_selection\n",
    "from estyp.linear_model import LogisticRegression\n",
    "\n",
    "ff1 = forward_selection(\n",
    "    y       = \"y\",\n",
    "    data    = data,\n",
    "    model   = LogisticRegression,\n",
    "    verbose = False,\n",
    ")\n",
    "ff2 = both_selection(\n",
    "    formula = formula1,\n",
    "    data    = data,\n",
    "    model   = LogisticRegression,\n",
    "    verbose = False\n",
    ")\n",
    "print(\"- Forward result:\", ff1)\n",
    "print(\"- Both result   :\", ff2)"
   ]
  },
  {
   "cell_type": "code",
   "execution_count": 60,
   "metadata": {},
   "outputs": [
    {
     "data": {
      "text/plain": [
       "\n",
       "    \u001b[1m\u001b[4mNested models F-test\u001b[0m\n",
       "    F = 2.2843 | df: {'df_num': 3, 'df_den': 145} | p-value = 0.0814\n",
       "    alternative hypothesis: big model is true\n",
       "    sample estimates:\n",
       "      Difference in deviances between models: 6.856231\n",
       "    "
      ]
     },
     "execution_count": 60,
     "metadata": {},
     "output_type": "execute_result"
    }
   ],
   "source": [
    "from estyp.testing import nested_models_test\n",
    "\n",
    "model1 = LogisticRegression.from_formula(ff1, data).fit()\n",
    "model2 = LogisticRegression.from_formula(ff2, data).fit()\n",
    "\n",
    "nested_models_test(model1, model2) # First model is nested in the second one"
   ]
  },
  {
   "cell_type": "markdown",
   "metadata": {},
   "source": [
    "With $\\alpha=0.05$, the null hypothesis is not rejected: model2 is significantly not better than model1."
   ]
  }
 ],
 "metadata": {
  "kernelspec": {
   "display_name": "estyp_dev",
   "language": "python",
   "name": "python3"
  },
  "language_info": {
   "codemirror_mode": {
    "name": "ipython",
    "version": 3
   },
   "file_extension": ".py",
   "mimetype": "text/x-python",
   "name": "python",
   "nbconvert_exporter": "python",
   "pygments_lexer": "ipython3",
   "version": "3.9.12"
  },
  "orig_nbformat": 4
 },
 "nbformat": 4,
 "nbformat_minor": 2
}
