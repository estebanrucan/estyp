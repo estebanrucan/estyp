{
 "cells": [
  {
   "cell_type": "code",
   "execution_count": 1,
   "metadata": {},
   "outputs": [
    {
     "data": {
      "text/html": [
       "<div>\n",
       "<style scoped>\n",
       "    .dataframe tbody tr th:only-of-type {\n",
       "        vertical-align: middle;\n",
       "    }\n",
       "\n",
       "    .dataframe tbody tr th {\n",
       "        vertical-align: top;\n",
       "    }\n",
       "\n",
       "    .dataframe thead th {\n",
       "        text-align: right;\n",
       "    }\n",
       "</style>\n",
       "<table border=\"1\" class=\"dataframe\">\n",
       "  <thead>\n",
       "    <tr style=\"text-align: right;\">\n",
       "      <th></th>\n",
       "      <th>categoria</th>\n",
       "      <th>tamano_porcion</th>\n",
       "      <th>calorias</th>\n",
       "      <th>calorias_de_grasa</th>\n",
       "      <th>grasa_total</th>\n",
       "      <th>grasa_total_pct_diario</th>\n",
       "      <th>grasa_saturada</th>\n",
       "      <th>grasa_saturada_pct_diario</th>\n",
       "      <th>grasas_trans</th>\n",
       "      <th>colesterol</th>\n",
       "      <th>...</th>\n",
       "      <th>carbohidratos</th>\n",
       "      <th>carbohidratos_pct_diario</th>\n",
       "      <th>fibra_dietetica</th>\n",
       "      <th>fibra_dietetica_pct_diario</th>\n",
       "      <th>azucares</th>\n",
       "      <th>proteina</th>\n",
       "      <th>vitamina_a_pct_diario</th>\n",
       "      <th>vitamina_c_pct_diario</th>\n",
       "      <th>calcio_pct_diario</th>\n",
       "      <th>hierro_pct_diario</th>\n",
       "    </tr>\n",
       "  </thead>\n",
       "  <tbody>\n",
       "    <tr>\n",
       "      <th>0</th>\n",
       "      <td>Desayuno</td>\n",
       "      <td>136</td>\n",
       "      <td>300</td>\n",
       "      <td>120</td>\n",
       "      <td>13.0</td>\n",
       "      <td>20</td>\n",
       "      <td>5.0</td>\n",
       "      <td>25.0</td>\n",
       "      <td>0.0</td>\n",
       "      <td>260</td>\n",
       "      <td>...</td>\n",
       "      <td>31</td>\n",
       "      <td>10</td>\n",
       "      <td>4</td>\n",
       "      <td>17</td>\n",
       "      <td>3</td>\n",
       "      <td>17</td>\n",
       "      <td>10</td>\n",
       "      <td>0</td>\n",
       "      <td>25</td>\n",
       "      <td>15</td>\n",
       "    </tr>\n",
       "    <tr>\n",
       "      <th>1</th>\n",
       "      <td>Desayuno</td>\n",
       "      <td>135</td>\n",
       "      <td>250</td>\n",
       "      <td>70</td>\n",
       "      <td>8.0</td>\n",
       "      <td>12</td>\n",
       "      <td>3.0</td>\n",
       "      <td>15.0</td>\n",
       "      <td>0.0</td>\n",
       "      <td>25</td>\n",
       "      <td>...</td>\n",
       "      <td>30</td>\n",
       "      <td>10</td>\n",
       "      <td>4</td>\n",
       "      <td>17</td>\n",
       "      <td>3</td>\n",
       "      <td>18</td>\n",
       "      <td>6</td>\n",
       "      <td>0</td>\n",
       "      <td>25</td>\n",
       "      <td>8</td>\n",
       "    </tr>\n",
       "    <tr>\n",
       "      <th>2</th>\n",
       "      <td>Desayuno</td>\n",
       "      <td>111</td>\n",
       "      <td>370</td>\n",
       "      <td>200</td>\n",
       "      <td>23.0</td>\n",
       "      <td>35</td>\n",
       "      <td>8.0</td>\n",
       "      <td>42.0</td>\n",
       "      <td>0.0</td>\n",
       "      <td>45</td>\n",
       "      <td>...</td>\n",
       "      <td>29</td>\n",
       "      <td>10</td>\n",
       "      <td>4</td>\n",
       "      <td>17</td>\n",
       "      <td>2</td>\n",
       "      <td>14</td>\n",
       "      <td>8</td>\n",
       "      <td>0</td>\n",
       "      <td>25</td>\n",
       "      <td>10</td>\n",
       "    </tr>\n",
       "    <tr>\n",
       "      <th>3</th>\n",
       "      <td>Desayuno</td>\n",
       "      <td>161</td>\n",
       "      <td>450</td>\n",
       "      <td>250</td>\n",
       "      <td>28.0</td>\n",
       "      <td>43</td>\n",
       "      <td>10.0</td>\n",
       "      <td>52.0</td>\n",
       "      <td>0.0</td>\n",
       "      <td>285</td>\n",
       "      <td>...</td>\n",
       "      <td>30</td>\n",
       "      <td>10</td>\n",
       "      <td>4</td>\n",
       "      <td>17</td>\n",
       "      <td>2</td>\n",
       "      <td>21</td>\n",
       "      <td>15</td>\n",
       "      <td>0</td>\n",
       "      <td>30</td>\n",
       "      <td>15</td>\n",
       "    </tr>\n",
       "    <tr>\n",
       "      <th>4</th>\n",
       "      <td>Desayuno</td>\n",
       "      <td>161</td>\n",
       "      <td>400</td>\n",
       "      <td>210</td>\n",
       "      <td>23.0</td>\n",
       "      <td>35</td>\n",
       "      <td>8.0</td>\n",
       "      <td>42.0</td>\n",
       "      <td>0.0</td>\n",
       "      <td>50</td>\n",
       "      <td>...</td>\n",
       "      <td>30</td>\n",
       "      <td>10</td>\n",
       "      <td>4</td>\n",
       "      <td>17</td>\n",
       "      <td>2</td>\n",
       "      <td>21</td>\n",
       "      <td>6</td>\n",
       "      <td>0</td>\n",
       "      <td>25</td>\n",
       "      <td>10</td>\n",
       "    </tr>\n",
       "  </tbody>\n",
       "</table>\n",
       "<p>5 rows × 23 columns</p>\n",
       "</div>"
      ],
      "text/plain": [
       "  categoria  tamano_porcion  calorias  calorias_de_grasa  grasa_total  \\\n",
       "0  Desayuno             136       300                120         13.0   \n",
       "1  Desayuno             135       250                 70          8.0   \n",
       "2  Desayuno             111       370                200         23.0   \n",
       "3  Desayuno             161       450                250         28.0   \n",
       "4  Desayuno             161       400                210         23.0   \n",
       "\n",
       "   grasa_total_pct_diario  grasa_saturada  grasa_saturada_pct_diario  \\\n",
       "0                      20             5.0                       25.0   \n",
       "1                      12             3.0                       15.0   \n",
       "2                      35             8.0                       42.0   \n",
       "3                      43            10.0                       52.0   \n",
       "4                      35             8.0                       42.0   \n",
       "\n",
       "   grasas_trans  colesterol  ...  carbohidratos  carbohidratos_pct_diario  \\\n",
       "0           0.0         260  ...             31                        10   \n",
       "1           0.0          25  ...             30                        10   \n",
       "2           0.0          45  ...             29                        10   \n",
       "3           0.0         285  ...             30                        10   \n",
       "4           0.0          50  ...             30                        10   \n",
       "\n",
       "   fibra_dietetica  fibra_dietetica_pct_diario  azucares  proteina  \\\n",
       "0                4                          17         3        17   \n",
       "1                4                          17         3        18   \n",
       "2                4                          17         2        14   \n",
       "3                4                          17         2        21   \n",
       "4                4                          17         2        21   \n",
       "\n",
       "   vitamina_a_pct_diario  vitamina_c_pct_diario  calcio_pct_diario  \\\n",
       "0                     10                      0                 25   \n",
       "1                      6                      0                 25   \n",
       "2                      8                      0                 25   \n",
       "3                     15                      0                 30   \n",
       "4                      6                      0                 25   \n",
       "\n",
       "   hierro_pct_diario  \n",
       "0                 15  \n",
       "1                  8  \n",
       "2                 10  \n",
       "3                 15  \n",
       "4                 10  \n",
       "\n",
       "[5 rows x 23 columns]"
      ]
     },
     "execution_count": 1,
     "metadata": {},
     "output_type": "execute_result"
    }
   ],
   "source": [
    "import pandas as pd\n",
    "data = pd.read_excel(\"https://raw.githubusercontent.com/estebanrucan/bases-de-datos/main/mcdonalds.xlsx\").iloc[:, 2:]\n",
    "data.head()"
   ]
  },
  {
   "cell_type": "code",
   "execution_count": 2,
   "metadata": {},
   "outputs": [],
   "source": [
    "%load_ext autoreload\n",
    "%autoreload 2"
   ]
  },
  {
   "cell_type": "code",
   "execution_count": 3,
   "metadata": {},
   "outputs": [],
   "source": [
    "import statsmodels.api as sm"
   ]
  },
  {
   "cell_type": "code",
   "execution_count": 4,
   "metadata": {},
   "outputs": [],
   "source": [
    "ms = sm.OLS.from_formula(\"calorias ~ 1\", data).fit()\n",
    "mb = sm.OLS.from_formula(\"calorias ~ tamano_porcion\", data).fit()"
   ]
  },
  {
   "cell_type": "code",
   "execution_count": 6,
   "metadata": {},
   "outputs": [
    {
     "data": {
      "text/plain": [
       "\n",
       "    Nested models F-test\n",
       "    --------------------\n",
       "    F = 222.8743 | df: {'df_num': '1.00', 'df_den': '119.00'} | p-value = <0.0001\n",
       "    alternative hypothesis: big model is true\n",
       "    sample estimates:\n",
       "      Difference in deviances between models: 4962297.843197\n",
       "    "
      ]
     },
     "execution_count": 6,
     "metadata": {},
     "output_type": "execute_result"
    }
   ],
   "source": [
    "from estyp.testing import nested_models_test\n",
    "\n",
    "nested_models_test(ms, mb, data[\"calorias\"])"
   ]
  },
  {
   "cell_type": "code",
   "execution_count": 195,
   "metadata": {},
   "outputs": [],
   "source": []
  },
  {
   "cell_type": "code",
   "execution_count": 158,
   "metadata": {},
   "outputs": [
    {
     "data": {
      "text/html": [
       "<table class=\"simpletable\">\n",
       "<caption>OLS Regression Results</caption>\n",
       "<tr>\n",
       "  <th>Dep. Variable:</th>        <td>calorias</td>     <th>  R-squared:         </th> <td>   1.000</td> \n",
       "</tr>\n",
       "<tr>\n",
       "  <th>Model:</th>                   <td>OLS</td>       <th>  Adj. R-squared:    </th> <td>   1.000</td> \n",
       "</tr>\n",
       "<tr>\n",
       "  <th>Method:</th>             <td>Least Squares</td>  <th>  F-statistic:       </th> <td>5.364e+04</td>\n",
       "</tr>\n",
       "<tr>\n",
       "  <th>Date:</th>             <td>Wed, 26 Jul 2023</td> <th>  Prob (F-statistic):</th> <td>1.78e-187</td>\n",
       "</tr>\n",
       "<tr>\n",
       "  <th>Time:</th>                 <td>13:50:36</td>     <th>  Log-Likelihood:    </th> <td> -321.52</td> \n",
       "</tr>\n",
       "<tr>\n",
       "  <th>No. Observations:</th>      <td>   115</td>      <th>  AIC:               </th> <td>   661.0</td> \n",
       "</tr>\n",
       "<tr>\n",
       "  <th>Df Residuals:</th>          <td>   106</td>      <th>  BIC:               </th> <td>   685.7</td> \n",
       "</tr>\n",
       "<tr>\n",
       "  <th>Df Model:</th>              <td>     8</td>      <th>                     </th>     <td> </td>    \n",
       "</tr>\n",
       "<tr>\n",
       "  <th>Covariance Type:</th>      <td>nonrobust</td>    <th>                     </th>     <td> </td>    \n",
       "</tr>\n",
       "</table>\n",
       "<table class=\"simpletable\">\n",
       "<tr>\n",
       "              <td></td>                 <th>coef</th>     <th>std err</th>      <th>t</th>      <th>P>|t|</th>  <th>[0.025</th>    <th>0.975]</th>  \n",
       "</tr>\n",
       "<tr>\n",
       "  <th>Intercept</th>                 <td>    0.4496</td> <td>    0.940</td> <td>    0.478</td> <td> 0.633</td> <td>   -1.414</td> <td>    2.314</td>\n",
       "</tr>\n",
       "<tr>\n",
       "  <th>grasa_total</th>               <td>    3.7845</td> <td>    1.149</td> <td>    3.292</td> <td> 0.001</td> <td>    1.506</td> <td>    6.063</td>\n",
       "</tr>\n",
       "<tr>\n",
       "  <th>carbohidratos</th>             <td>    5.1574</td> <td>    0.497</td> <td>   10.380</td> <td> 0.000</td> <td>    4.172</td> <td>    6.142</td>\n",
       "</tr>\n",
       "<tr>\n",
       "  <th>proteina</th>                  <td>    3.9876</td> <td>    0.059</td> <td>   67.514</td> <td> 0.000</td> <td>    3.870</td> <td>    4.105</td>\n",
       "</tr>\n",
       "<tr>\n",
       "  <th>grasa_total_pct_diario</th>    <td>    3.2836</td> <td>    0.747</td> <td>    4.397</td> <td> 0.000</td> <td>    1.803</td> <td>    4.764</td>\n",
       "</tr>\n",
       "<tr>\n",
       "  <th>calcio_pct_diario</th>         <td>   -0.2442</td> <td>    0.060</td> <td>   -4.059</td> <td> 0.000</td> <td>   -0.363</td> <td>   -0.125</td>\n",
       "</tr>\n",
       "<tr>\n",
       "  <th>grasa_saturada_pct_diario</th> <td>    0.0864</td> <td>    0.036</td> <td>    2.413</td> <td> 0.018</td> <td>    0.015</td> <td>    0.157</td>\n",
       "</tr>\n",
       "<tr>\n",
       "  <th>carbohidratos_pct_diario</th>  <td>   -3.3141</td> <td>    1.497</td> <td>   -2.213</td> <td> 0.029</td> <td>   -6.283</td> <td>   -0.345</td>\n",
       "</tr>\n",
       "<tr>\n",
       "  <th>grasas_trans</th>              <td>    2.0056</td> <td>    1.036</td> <td>    1.936</td> <td> 0.056</td> <td>   -0.048</td> <td>    4.059</td>\n",
       "</tr>\n",
       "</table>\n",
       "<table class=\"simpletable\">\n",
       "<tr>\n",
       "  <th>Omnibus:</th>       <td> 5.672</td> <th>  Durbin-Watson:     </th> <td>   1.807</td>\n",
       "</tr>\n",
       "<tr>\n",
       "  <th>Prob(Omnibus):</th> <td> 0.059</td> <th>  Jarque-Bera (JB):  </th> <td>   6.999</td>\n",
       "</tr>\n",
       "<tr>\n",
       "  <th>Skew:</th>          <td>-0.241</td> <th>  Prob(JB):          </th> <td>  0.0302</td>\n",
       "</tr>\n",
       "<tr>\n",
       "  <th>Kurtosis:</th>      <td> 4.108</td> <th>  Cond. No.          </th> <td>    381.</td>\n",
       "</tr>\n",
       "</table><br/><br/>Notes:<br/>[1] Standard Errors assume that the covariance matrix of the errors is correctly specified."
      ],
      "text/plain": [
       "<class 'statsmodels.iolib.summary.Summary'>\n",
       "\"\"\"\n",
       "                            OLS Regression Results                            \n",
       "==============================================================================\n",
       "Dep. Variable:               calorias   R-squared:                       1.000\n",
       "Model:                            OLS   Adj. R-squared:                  1.000\n",
       "Method:                 Least Squares   F-statistic:                 5.364e+04\n",
       "Date:                Wed, 26 Jul 2023   Prob (F-statistic):          1.78e-187\n",
       "Time:                        13:50:36   Log-Likelihood:                -321.52\n",
       "No. Observations:                 115   AIC:                             661.0\n",
       "Df Residuals:                     106   BIC:                             685.7\n",
       "Df Model:                           8                                         \n",
       "Covariance Type:            nonrobust                                         \n",
       "=============================================================================================\n",
       "                                coef    std err          t      P>|t|      [0.025      0.975]\n",
       "---------------------------------------------------------------------------------------------\n",
       "Intercept                     0.4496      0.940      0.478      0.633      -1.414       2.314\n",
       "grasa_total                   3.7845      1.149      3.292      0.001       1.506       6.063\n",
       "carbohidratos                 5.1574      0.497     10.380      0.000       4.172       6.142\n",
       "proteina                      3.9876      0.059     67.514      0.000       3.870       4.105\n",
       "grasa_total_pct_diario        3.2836      0.747      4.397      0.000       1.803       4.764\n",
       "calcio_pct_diario            -0.2442      0.060     -4.059      0.000      -0.363      -0.125\n",
       "grasa_saturada_pct_diario     0.0864      0.036      2.413      0.018       0.015       0.157\n",
       "carbohidratos_pct_diario     -3.3141      1.497     -2.213      0.029      -6.283      -0.345\n",
       "grasas_trans                  2.0056      1.036      1.936      0.056      -0.048       4.059\n",
       "==============================================================================\n",
       "Omnibus:                        5.672   Durbin-Watson:                   1.807\n",
       "Prob(Omnibus):                  0.059   Jarque-Bera (JB):                6.999\n",
       "Skew:                          -0.241   Prob(JB):                       0.0302\n",
       "Kurtosis:                       4.108   Cond. No.                         381.\n",
       "==============================================================================\n",
       "\n",
       "Notes:\n",
       "[1] Standard Errors assume that the covariance matrix of the errors is correctly specified.\n",
       "\"\"\""
      ]
     },
     "execution_count": 158,
     "metadata": {},
     "output_type": "execute_result"
    }
   ],
   "source": [
    "ms.summary()"
   ]
  },
  {
   "cell_type": "code",
   "execution_count": 153,
   "metadata": {},
   "outputs": [
    {
     "data": {
      "text/html": [
       "<table class=\"simpletable\">\n",
       "<caption>OLS Regression Results</caption>\n",
       "<tr>\n",
       "  <th>Dep. Variable:</th>        <td>calorias</td>     <th>  R-squared:         </th> <td>   0.911</td>\n",
       "</tr>\n",
       "<tr>\n",
       "  <th>Model:</th>                   <td>OLS</td>       <th>  Adj. R-squared:    </th> <td>   0.910</td>\n",
       "</tr>\n",
       "<tr>\n",
       "  <th>Method:</th>             <td>Least Squares</td>  <th>  F-statistic:       </th> <td>   575.4</td>\n",
       "</tr>\n",
       "<tr>\n",
       "  <th>Date:</th>             <td>Wed, 26 Jul 2023</td> <th>  Prob (F-statistic):</th> <td>1.20e-59</td>\n",
       "</tr>\n",
       "<tr>\n",
       "  <th>Time:</th>                 <td>13:48:25</td>     <th>  Log-Likelihood:    </th> <td> -659.83</td>\n",
       "</tr>\n",
       "<tr>\n",
       "  <th>No. Observations:</th>      <td>   115</td>      <th>  AIC:               </th> <td>   1326.</td>\n",
       "</tr>\n",
       "<tr>\n",
       "  <th>Df Residuals:</th>          <td>   112</td>      <th>  BIC:               </th> <td>   1334.</td>\n",
       "</tr>\n",
       "<tr>\n",
       "  <th>Df Model:</th>              <td>     2</td>      <th>                     </th>     <td> </td>   \n",
       "</tr>\n",
       "<tr>\n",
       "  <th>Covariance Type:</th>      <td>nonrobust</td>    <th>                     </th>     <td> </td>   \n",
       "</tr>\n",
       "</table>\n",
       "<table class=\"simpletable\">\n",
       "<tr>\n",
       "              <td></td>                 <th>coef</th>     <th>std err</th>      <th>t</th>      <th>P>|t|</th>  <th>[0.025</th>    <th>0.975]</th>  \n",
       "</tr>\n",
       "<tr>\n",
       "  <th>Intercept</th>                 <td>  105.7719</td> <td>   13.320</td> <td>    7.941</td> <td> 0.000</td> <td>   79.379</td> <td>  132.164</td>\n",
       "</tr>\n",
       "<tr>\n",
       "  <th>grasa_saturada_pct_diario</th> <td>    1.1198</td> <td>    0.485</td> <td>    2.307</td> <td> 0.023</td> <td>    0.158</td> <td>    2.081</td>\n",
       "</tr>\n",
       "<tr>\n",
       "  <th>calorias_de_grasa</th>         <td>    1.5610</td> <td>    0.088</td> <td>   17.795</td> <td> 0.000</td> <td>    1.387</td> <td>    1.735</td>\n",
       "</tr>\n",
       "</table>\n",
       "<table class=\"simpletable\">\n",
       "<tr>\n",
       "  <th>Omnibus:</th>       <td> 4.390</td> <th>  Durbin-Watson:     </th> <td>   0.745</td>\n",
       "</tr>\n",
       "<tr>\n",
       "  <th>Prob(Omnibus):</th> <td> 0.111</td> <th>  Jarque-Bera (JB):  </th> <td>   4.056</td>\n",
       "</tr>\n",
       "<tr>\n",
       "  <th>Skew:</th>          <td> 0.458</td> <th>  Prob(JB):          </th> <td>   0.132</td>\n",
       "</tr>\n",
       "<tr>\n",
       "  <th>Kurtosis:</th>      <td> 3.083</td> <th>  Cond. No.          </th> <td>    467.</td>\n",
       "</tr>\n",
       "</table><br/><br/>Notes:<br/>[1] Standard Errors assume that the covariance matrix of the errors is correctly specified."
      ],
      "text/plain": [
       "<class 'statsmodels.iolib.summary.Summary'>\n",
       "\"\"\"\n",
       "                            OLS Regression Results                            \n",
       "==============================================================================\n",
       "Dep. Variable:               calorias   R-squared:                       0.911\n",
       "Model:                            OLS   Adj. R-squared:                  0.910\n",
       "Method:                 Least Squares   F-statistic:                     575.4\n",
       "Date:                Wed, 26 Jul 2023   Prob (F-statistic):           1.20e-59\n",
       "Time:                        13:48:25   Log-Likelihood:                -659.83\n",
       "No. Observations:                 115   AIC:                             1326.\n",
       "Df Residuals:                     112   BIC:                             1334.\n",
       "Df Model:                           2                                         \n",
       "Covariance Type:            nonrobust                                         \n",
       "=============================================================================================\n",
       "                                coef    std err          t      P>|t|      [0.025      0.975]\n",
       "---------------------------------------------------------------------------------------------\n",
       "Intercept                   105.7719     13.320      7.941      0.000      79.379     132.164\n",
       "grasa_saturada_pct_diario     1.1198      0.485      2.307      0.023       0.158       2.081\n",
       "calorias_de_grasa             1.5610      0.088     17.795      0.000       1.387       1.735\n",
       "==============================================================================\n",
       "Omnibus:                        4.390   Durbin-Watson:                   0.745\n",
       "Prob(Omnibus):                  0.111   Jarque-Bera (JB):                4.056\n",
       "Skew:                           0.458   Prob(JB):                        0.132\n",
       "Kurtosis:                       3.083   Cond. No.                         467.\n",
       "==============================================================================\n",
       "\n",
       "Notes:\n",
       "[1] Standard Errors assume that the covariance matrix of the errors is correctly specified.\n",
       "\"\"\""
      ]
     },
     "execution_count": 153,
     "metadata": {},
     "output_type": "execute_result"
    }
   ],
   "source": [
    "m_actual.summary()"
   ]
  },
  {
   "cell_type": "code",
   "execution_count": 61,
   "metadata": {},
   "outputs": [
    {
     "data": {
      "text/plain": [
       "1892.3736101338984"
      ]
     },
     "execution_count": 61,
     "metadata": {},
     "output_type": "execute_result"
    }
   ],
   "source": []
  },
  {
   "cell_type": "code",
   "execution_count": 64,
   "metadata": {},
   "outputs": [
    {
     "data": {
      "text/plain": [
       "False"
      ]
     },
     "execution_count": 64,
     "metadata": {},
     "output_type": "execute_result"
    }
   ],
   "source": [
    "isinstance(m, sm.OLS)"
   ]
  },
  {
   "cell_type": "code",
   "execution_count": 65,
   "metadata": {},
   "outputs": [
    {
     "data": {
      "text/plain": [
       "<statsmodels.regression.linear_model.RegressionResultsWrapper at 0x19cd2efeeb0>"
      ]
     },
     "execution_count": 65,
     "metadata": {},
     "output_type": "execute_result"
    }
   ],
   "source": [
    "m"
   ]
  },
  {
   "cell_type": "code",
   "execution_count": 32,
   "metadata": {},
   "outputs": [
    {
     "data": {
      "text/plain": [
       "'calorias ~ grasa_total + carbohidratos + proteina + categoria + grasa_total_pct_diario + fibra_dietetica_pct_diario + carbohidratos_pct_diario'"
      ]
     },
     "execution_count": 32,
     "metadata": {},
     "output_type": "execute_result"
    }
   ],
   "source": []
  },
  {
   "cell_type": "code",
   "execution_count": 31,
   "metadata": {},
   "outputs": [
    {
     "data": {
      "text/plain": [
       "'calorias ~ 1 + grasa_total + carbohidratos + proteina + categoria + grasa_total_pct_diario + fibra_dietetica_pct_diario + carbohidratos_pct_diario'"
      ]
     },
     "execution_count": 31,
     "metadata": {},
     "output_type": "execute_result"
    }
   ],
   "source": [
    "modelo_actual"
   ]
  },
  {
   "cell_type": "code",
   "execution_count": 20,
   "metadata": {},
   "outputs": [
    {
     "data": {
      "text/plain": [
       "1.121518264624544e-16"
      ]
     },
     "execution_count": 20,
     "metadata": {},
     "output_type": "execute_result"
    }
   ],
   "source": [
    "at.loc[p][-1]"
   ]
  },
  {
   "cell_type": "code",
   "execution_count": null,
   "metadata": {},
   "outputs": [],
   "source": []
  }
 ],
 "metadata": {
  "kernelspec": {
   "display_name": "default",
   "language": "python",
   "name": "python3"
  },
  "language_info": {
   "codemirror_mode": {
    "name": "ipython",
    "version": 3
   },
   "file_extension": ".py",
   "mimetype": "text/x-python",
   "name": "python",
   "nbconvert_exporter": "python",
   "pygments_lexer": "ipython3",
   "version": "3.9.12"
  },
  "orig_nbformat": 4
 },
 "nbformat": 4,
 "nbformat_minor": 2
}
