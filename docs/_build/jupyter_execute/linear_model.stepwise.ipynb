{
 "cells": [
  {
   "cell_type": "code",
   "execution_count": 1,
   "id": "826bec39",
   "metadata": {
    "execution": {
     "iopub.execute_input": "2023-08-08T04:04:46.919508Z",
     "iopub.status.busy": "2023-08-08T04:04:46.919508Z",
     "iopub.status.idle": "2023-08-08T04:04:48.244545Z",
     "shell.execute_reply": "2023-08-08T04:04:48.243604Z"
    }
   },
   "outputs": [
    {
     "name": "stdout",
     "output_type": "stream",
     "text": [
      "Made by Esteban Rucán. Contact me in LinkedIn: https://www.linkedin.com/in/estebanrucan/\n"
     ]
    },
    {
     "name": "stdout",
     "output_type": "stream",
     "text": [
      "y ~ x1\n"
     ]
    }
   ],
   "source": [
    "import statsmodels.api as sm\n",
    "import pandas as pd\n",
    "from estyp.linear_model.stepwise import both_selection\n",
    "\n",
    "data = pd.DataFrame({\n",
    "    \"y\": [1, 2, 3, 4, 5],\n",
    "    \"x1\": [1, 2, 3, 4, 5],\n",
    "    \"x2\": [6, 7, 8, 9, 10],\n",
    "})\n",
    "formula = \"y ~ x1 + x2\"\n",
    "model = sm.OLS\n",
    "\n",
    "final_formula = both_selection(formula=formula, data=data, model=model)\n",
    "print(final_formula)"
   ]
  },
  {
   "cell_type": "code",
   "execution_count": 2,
   "id": "6f9bdad5",
   "metadata": {
    "execution": {
     "iopub.execute_input": "2023-08-08T04:04:48.247553Z",
     "iopub.status.busy": "2023-08-08T04:04:48.247553Z",
     "iopub.status.idle": "2023-08-08T04:04:48.291549Z",
     "shell.execute_reply": "2023-08-08T04:04:48.291549Z"
    }
   },
   "outputs": [
    {
     "name": "stdout",
     "output_type": "stream",
     "text": [
      "                            OLS Regression Results                            \n",
      "==============================================================================\n",
      "Dep. Variable:                      y   R-squared:                       0.990\n",
      "Model:                            OLS   Adj. R-squared:                  0.986\n",
      "Method:                 Least Squares   F-statistic:                     289.0\n",
      "Date:                Tue, 08 Aug 2023   Prob (F-statistic):           0.000443\n",
      "Time:                        00:04:48   Log-Likelihood:                 2.6178\n",
      "No. Observations:                   5   AIC:                            -1.236\n",
      "Df Residuals:                       3   BIC:                            -2.017\n",
      "Df Model:                           1                                         \n",
      "Covariance Type:            nonrobust                                         \n",
      "==============================================================================\n",
      "                 coef    std err          t      P>|t|      [0.025      0.975]\n",
      "------------------------------------------------------------------------------\n",
      "Intercept     -0.1438      0.203     -0.710      0.529      -0.789       0.501\n",
      "X1             0.5822      0.034     17.000      0.000       0.473       0.691\n",
      "==============================================================================\n",
      "Omnibus:                          nan   Durbin-Watson:                   2.488\n",
      "Prob(Omnibus):                    nan   Jarque-Bera (JB):                0.336\n",
      "Skew:                           0.389   Prob(JB):                        0.845\n",
      "Kurtosis:                       1.998   Cond. No.                         14.8\n",
      "==============================================================================\n",
      "\n",
      "Notes:\n",
      "[1] Standard Errors assume that the covariance matrix of the errors is correctly specified.\n"
     ]
    },
    {
     "name": "stderr",
     "output_type": "stream",
     "text": [
      "C:\\Users\\esteb\\AppData\\Roaming\\Python\\Python39\\site-packages\\statsmodels\\stats\\stattools.py:74: ValueWarning: omni_normtest is not valid with less than 8 observations; 5 samples were given.\n",
      "  warn(\"omni_normtest is not valid with less than 8 observations; %i \"\n"
     ]
    }
   ],
   "source": [
    "import pandas as pd\n",
    "import statsmodels.api as sm\n",
    "from estyp.linear_model.stepwise import forward_selection\n",
    "\n",
    "# Create sample DataFrame\n",
    "data = pd.DataFrame({\n",
    "    'y': [1, 2, 3, 4, 5],\n",
    "    'X1': [2, 4, 5, 7, 9],\n",
    "    'X2': [3, 1, 6, 8, 4],\n",
    "    'X3': [1, 5, 9, 2, 3]\n",
    "})\n",
    "\n",
    "# Perform the forward variable selection\n",
    "formula = forward_selection(\n",
    "    y = \"y\",\n",
    "    data = data,\n",
    "    model = sm.OLS,\n",
    "    alpha = 0.05\n",
    ")\n",
    "\n",
    "# Fit the model using the selected formula\n",
    "selected_model = sm.OLS.from_formula(formula, data).fit()\n",
    "print(selected_model.summary())"
   ]
  }
 ],
 "metadata": {
  "kernelspec": {
   "display_name": "Python 3 (ipykernel)",
   "language": "python",
   "name": "python3"
  },
  "language_info": {
   "codemirror_mode": {
    "name": "ipython",
    "version": 3
   },
   "file_extension": ".py",
   "mimetype": "text/x-python",
   "name": "python",
   "nbconvert_exporter": "python",
   "pygments_lexer": "ipython3",
   "version": "3.9.12"
  }
 },
 "nbformat": 4,
 "nbformat_minor": 5
}