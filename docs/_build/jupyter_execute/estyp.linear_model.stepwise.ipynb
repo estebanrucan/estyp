{
 "cells": [
  {
   "cell_type": "code",
   "execution_count": 1,
   "id": "0f786da0",
   "metadata": {
    "execution": {
     "iopub.execute_input": "2023-08-08T01:50:16.692094Z",
     "iopub.status.busy": "2023-08-08T01:50:16.692094Z",
     "iopub.status.idle": "2023-08-08T01:50:18.066471Z",
     "shell.execute_reply": "2023-08-08T01:50:18.066471Z"
    }
   },
   "outputs": [
    {
     "name": "stdout",
     "output_type": "stream",
     "text": [
      "Made by Esteban Rucán. Contact me in LinkedIn: https://www.linkedin.com/in/estebanrucan/\n"
     ]
    },
    {
     "name": "stdout",
     "output_type": "stream",
     "text": [
      "Este proceso tarda un buen tiempo ¡Paciencia! Momento de cuestionarte si eres feliz.\n",
      "AIC Inicial: -329.74\n",
      "Iteración 1 Finalizada | AIC Actual: -332.38\n",
      "=========================\n",
      "|| Fin de la selección ||\n",
      "=========================\n",
      "AIC Obtenido: -332.38\n",
      "Variables eliminadas: ['x2']\n",
      "Variables agregadas: Ninguna\n",
      "Fórmula obtenida: y ~ x1\n",
      "y ~ x1\n"
     ]
    }
   ],
   "source": [
    "import statsmodels.api as sm\n",
    "import pandas as pd\n",
    "from estyp.linear_model.stepwise import both_selection\n",
    "\n",
    "data = pd.DataFrame({\n",
    "    \"y\": [1, 2, 3, 4, 5],\n",
    "    \"x1\": [1, 2, 3, 4, 5],\n",
    "    \"x2\": [6, 7, 8, 9, 10],\n",
    "})\n",
    "formula = \"y ~ x1 + x2\"\n",
    "model = sm.OLS\n",
    "\n",
    "final_formula = both_selection(formula=formula, data=data, model=model)\n",
    "print(final_formula)"
   ]
  },
  {
   "cell_type": "code",
   "execution_count": 2,
   "id": "32f3dd2b",
   "metadata": {
    "execution": {
     "iopub.execute_input": "2023-08-08T01:50:18.069459Z",
     "iopub.status.busy": "2023-08-08T01:50:18.069459Z",
     "iopub.status.idle": "2023-08-08T01:50:18.115447Z",
     "shell.execute_reply": "2023-08-08T01:50:18.114449Z"
    }
   },
   "outputs": [
    {
     "name": "stdout",
     "output_type": "stream",
     "text": [
      "Variable agregada: X1                             | valor-p: 0.0004\n",
      "=========================\n",
      "|| Fin de la selección ||\n",
      "=========================\n",
      "Fórmula obtenida: y ~ X1\n",
      "                            OLS Regression Results                            \n",
      "==============================================================================\n",
      "Dep. Variable:                      y   R-squared:                       0.990\n",
      "Model:                            OLS   Adj. R-squared:                  0.986\n",
      "Method:                 Least Squares   F-statistic:                     289.0\n",
      "Date:                Mon, 07 Aug 2023   Prob (F-statistic):           0.000443\n",
      "Time:                        21:50:18   Log-Likelihood:                 2.6178\n",
      "No. Observations:                   5   AIC:                            -1.236\n",
      "Df Residuals:                       3   BIC:                            -2.017\n",
      "Df Model:                           1                                         \n",
      "Covariance Type:            nonrobust                                         \n",
      "==============================================================================\n",
      "                 coef    std err          t      P>|t|      [0.025      0.975]\n",
      "------------------------------------------------------------------------------\n",
      "Intercept     -0.1438      0.203     -0.710      0.529      -0.789       0.501\n",
      "X1             0.5822      0.034     17.000      0.000       0.473       0.691\n",
      "==============================================================================\n",
      "Omnibus:                          nan   Durbin-Watson:                   2.488\n",
      "Prob(Omnibus):                    nan   Jarque-Bera (JB):                0.336\n",
      "Skew:                           0.389   Prob(JB):                        0.845\n",
      "Kurtosis:                       1.998   Cond. No.                         14.8\n",
      "==============================================================================\n",
      "\n",
      "Notes:\n",
      "[1] Standard Errors assume that the covariance matrix of the errors is correctly specified.\n"
     ]
    },
    {
     "name": "stderr",
     "output_type": "stream",
     "text": [
      "C:\\Users\\esteb\\AppData\\Roaming\\Python\\Python39\\site-packages\\statsmodels\\stats\\stattools.py:74: ValueWarning: omni_normtest is not valid with less than 8 observations; 5 samples were given.\n",
      "  warn(\"omni_normtest is not valid with less than 8 observations; %i \"\n"
     ]
    }
   ],
   "source": [
    "import pandas as pd\n",
    "import statsmodels.api as sm\n",
    "from estyp.linear_model.stepwise import forward_selection\n",
    "\n",
    "# Create sample DataFrame\n",
    "data = pd.DataFrame({\n",
    "    'y': [1, 2, 3, 4, 5],\n",
    "    'X1': [2, 4, 5, 7, 9],\n",
    "    'X2': [3, 1, 6, 8, 4],\n",
    "    'X3': [1, 5, 9, 2, 3]\n",
    "})\n",
    "\n",
    "# Perform the forward variable selection\n",
    "formula = forward_selection(\n",
    "    y = \"y\",\n",
    "    data = data,\n",
    "    model = sm.OLS,\n",
    "    alpha = 0.05\n",
    ")\n",
    "\n",
    "# Fit the model using the selected formula\n",
    "selected_model = sm.OLS.from_formula(formula, data).fit()\n",
    "print(selected_model.summary())"
   ]
  }
 ],
 "metadata": {
  "kernelspec": {
   "display_name": "Python 3 (ipykernel)",
   "language": "python",
   "name": "python3"
  },
  "language_info": {
   "codemirror_mode": {
    "name": "ipython",
    "version": 3
   },
   "file_extension": ".py",
   "mimetype": "text/x-python",
   "name": "python",
   "nbconvert_exporter": "python",
   "pygments_lexer": "ipython3",
   "version": "3.9.12"
  }
 },
 "nbformat": 4,
 "nbformat_minor": 5
}