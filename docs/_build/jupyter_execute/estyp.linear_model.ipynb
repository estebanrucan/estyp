{
 "cells": [
  {
   "cell_type": "code",
   "execution_count": 1,
   "id": "3c4fe280",
   "metadata": {
    "execution": {
     "iopub.execute_input": "2023-08-08T02:09:24.129473Z",
     "iopub.status.busy": "2023-08-08T02:09:24.129473Z",
     "iopub.status.idle": "2023-08-08T02:09:25.779537Z",
     "shell.execute_reply": "2023-08-08T02:09:25.779537Z"
    }
   },
   "outputs": [
    {
     "name": "stdout",
     "output_type": "stream",
     "text": [
      "Made by Esteban Rucán. Contact me in LinkedIn: https://www.linkedin.com/in/estebanrucan/\n"
     ]
    },
    {
     "name": "stdout",
     "output_type": "stream",
     "text": [
      "           Estimate      S.E.         z  Pr(>|z|)   [Lower,    Upper]\n",
      "Intercept -0.200864  0.202894 -0.989996  0.322176 -0.598530  0.196801\n",
      "x1         0.032006  0.375254  0.085292  0.932030 -0.703478  0.767490\n",
      "x2         0.438665  0.344263  1.274215  0.202587 -0.236078  1.113407\n"
     ]
    }
   ],
   "source": [
    "import numpy as np\n",
    "import pandas as pd\n",
    "from estyp.linear_model import LogisticRegression\n",
    "\n",
    "np.random.seed(123)\n",
    "data = pd.DataFrame({\n",
    "   \"y\": np.random.randint(2, size=100),\n",
    "   \"x1\": np.random.uniform(-1, 1, size=100),\n",
    "   \"x2\": np.random.uniform(-1, 1, size=100),\n",
    "})\n",
    "\n",
    "formula = \"y ~ x1 + x2\"\n",
    "spec = LogisticRegression.from_formula(formula, data)\n",
    "model = spec.fit()\n",
    "\n",
    "print(model.summary())"
   ]
  }
 ],
 "metadata": {
  "kernelspec": {
   "display_name": "Python 3 (ipykernel)",
   "language": "python",
   "name": "python3"
  },
  "language_info": {
   "codemirror_mode": {
    "name": "ipython",
    "version": 3
   },
   "file_extension": ".py",
   "mimetype": "text/x-python",
   "name": "python",
   "nbconvert_exporter": "python",
   "pygments_lexer": "ipython3",
   "version": "3.9.12"
  }
 },
 "nbformat": 4,
 "nbformat_minor": 5
}