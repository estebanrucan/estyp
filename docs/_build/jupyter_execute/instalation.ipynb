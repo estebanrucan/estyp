{
 "cells": [
  {
   "cell_type": "code",
   "execution_count": 1,
   "id": "9bde4556",
   "metadata": {
    "execution": {
     "iopub.execute_input": "2023-08-13T00:04:41.750541Z",
     "iopub.status.busy": "2023-08-13T00:04:41.750394Z",
     "iopub.status.idle": "2023-08-13T00:04:41.757850Z",
     "shell.execute_reply": "2023-08-13T00:04:41.757202Z"
    }
   },
   "outputs": [
    {
     "name": "stdout",
     "output_type": "stream",
     "text": [
      "Looking for help? Visit the ESTYP documentation: https://estyp.readthedocs.io/\n"
     ]
    }
   ],
   "source": [
    "import estyp"
   ]
  },
  {
   "cell_type": "code",
   "execution_count": 2,
   "id": "a7a43ca6",
   "metadata": {
    "execution": {
     "iopub.execute_input": "2023-08-13T00:04:41.759530Z",
     "iopub.status.busy": "2023-08-13T00:04:41.759384Z",
     "iopub.status.idle": "2023-08-13T00:04:41.762382Z",
     "shell.execute_reply": "2023-08-13T00:04:41.761843Z"
    }
   },
   "outputs": [
    {
     "name": "stdout",
     "output_type": "stream",
     "text": [
      "0.7.0\n"
     ]
    }
   ],
   "source": [
    "print(estyp.__version__)"
   ]
  }
 ],
 "metadata": {
  "kernelspec": {
   "display_name": "Python 3 (ipykernel)",
   "language": "python",
   "name": "python3"
  },
  "language_info": {
   "codemirror_mode": {
    "name": "ipython",
    "version": 3
   },
   "file_extension": ".py",
   "mimetype": "text/x-python",
   "name": "python",
   "nbconvert_exporter": "python",
   "pygments_lexer": "ipython3",
   "version": "3.9.12"
  }
 },
 "nbformat": 4,
 "nbformat_minor": 5
}