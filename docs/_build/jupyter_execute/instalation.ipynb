{
 "cells": [
  {
   "cell_type": "code",
   "execution_count": 1,
   "id": "4e39672c",
   "metadata": {
    "execution": {
     "iopub.execute_input": "2023-08-07T21:49:44.529975Z",
     "iopub.status.busy": "2023-08-07T21:49:44.529975Z",
     "iopub.status.idle": "2023-08-07T21:49:44.541111Z",
     "shell.execute_reply": "2023-08-07T21:49:44.541111Z"
    }
   },
   "outputs": [
    {
     "name": "stdout",
     "output_type": "stream",
     "text": [
      "Made by Esteban Rucán. Contact me in LinkedIn: https://www.linkedin.com/in/estebanrucan/\n"
     ]
    }
   ],
   "source": [
    "import estyp"
   ]
  },
  {
   "cell_type": "code",
   "execution_count": 2,
   "id": "68262423",
   "metadata": {
    "execution": {
     "iopub.execute_input": "2023-08-07T21:49:44.544111Z",
     "iopub.status.busy": "2023-08-07T21:49:44.544111Z",
     "iopub.status.idle": "2023-08-07T21:49:44.557906Z",
     "shell.execute_reply": "2023-08-07T21:49:44.556915Z"
    }
   },
   "outputs": [
    {
     "name": "stdout",
     "output_type": "stream",
     "text": [
      "0.5.0\n"
     ]
    }
   ],
   "source": [
    "print(estyp.__version__)"
   ]
  }
 ],
 "metadata": {
  "kernelspec": {
   "display_name": "Python 3 (ipykernel)",
   "language": "python",
   "name": "python3"
  },
  "language_info": {
   "codemirror_mode": {
    "name": "ipython",
    "version": 3
   },
   "file_extension": ".py",
   "mimetype": "text/x-python",
   "name": "python",
   "nbconvert_exporter": "python",
   "pygments_lexer": "ipython3",
   "version": "3.9.12"
  }
 },
 "nbformat": 4,
 "nbformat_minor": 5
}