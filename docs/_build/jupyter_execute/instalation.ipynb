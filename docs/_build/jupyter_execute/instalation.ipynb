{
 "cells": [
  {
   "cell_type": "code",
   "execution_count": 1,
   "id": "d729d90b",
   "metadata": {
    "execution": {
     "iopub.execute_input": "2023-08-08T04:04:41.217026Z",
     "iopub.status.busy": "2023-08-08T04:04:41.217026Z",
     "iopub.status.idle": "2023-08-08T04:04:41.227920Z",
     "shell.execute_reply": "2023-08-08T04:04:41.227920Z"
    }
   },
   "outputs": [
    {
     "name": "stdout",
     "output_type": "stream",
     "text": [
      "Made by Esteban Rucán. Contact me in LinkedIn: https://www.linkedin.com/in/estebanrucan/\n"
     ]
    }
   ],
   "source": [
    "import estyp"
   ]
  },
  {
   "cell_type": "code",
   "execution_count": 2,
   "id": "7f6d9d06",
   "metadata": {
    "execution": {
     "iopub.execute_input": "2023-08-08T04:04:41.229919Z",
     "iopub.status.busy": "2023-08-08T04:04:41.229919Z",
     "iopub.status.idle": "2023-08-08T04:04:41.243927Z",
     "shell.execute_reply": "2023-08-08T04:04:41.243927Z"
    }
   },
   "outputs": [
    {
     "name": "stdout",
     "output_type": "stream",
     "text": [
      "0.5.1\n"
     ]
    }
   ],
   "source": [
    "print(estyp.__version__)"
   ]
  }
 ],
 "metadata": {
  "kernelspec": {
   "display_name": "Python 3 (ipykernel)",
   "language": "python",
   "name": "python3"
  },
  "language_info": {
   "codemirror_mode": {
    "name": "ipython",
    "version": 3
   },
   "file_extension": ".py",
   "mimetype": "text/x-python",
   "name": "python",
   "nbconvert_exporter": "python",
   "pygments_lexer": "ipython3",
   "version": "3.9.12"
  }
 },
 "nbformat": 4,
 "nbformat_minor": 5
}